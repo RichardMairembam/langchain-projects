{
 "cells": [
  {
   "cell_type": "code",
   "execution_count": 1,
   "metadata": {},
   "outputs": [
    {
     "data": {
      "text/plain": [
       "True"
      ]
     },
     "execution_count": 1,
     "metadata": {},
     "output_type": "execute_result"
    }
   ],
   "source": [
    "from dotenv import load_dotenv\n",
    "import os\n",
    "load_dotenv()"
   ]
  },
  {
   "cell_type": "code",
   "execution_count": 32,
   "metadata": {},
   "outputs": [],
   "source": [
    "# os.environ['OPENAI_API_KEY'] = \"OPENAI_API_KEY\"\n",
    "# os.environ['SERPAPI_API_KEY'] = \"SERPAPI_API_KEY\""
   ]
  },
  {
   "cell_type": "code",
   "execution_count": 17,
   "metadata": {},
   "outputs": [
    {
     "name": "stdout",
     "output_type": "stream",
     "text": [
      "\n",
      "\n",
      "\"Bella Cucina\" \n"
     ]
    }
   ],
   "source": [
    "from langchain.llms import OpenAI\n",
    "llm = OpenAI(temperature=0.6)\n",
    "name = llm(\"I want to open a restaurant for Italian food. Suggest a fency name for this.\")\n",
    "print(name)"
   ]
  },
  {
   "cell_type": "markdown",
   "metadata": {},
   "source": [
    "### I don't want to keep on changing the prompt. So we create Prompt Tempaltes"
   ]
  },
  {
   "cell_type": "code",
   "execution_count": 11,
   "metadata": {},
   "outputs": [
    {
     "data": {
      "text/plain": [
       "'I want to open a restaurant for Indian food. Suggest a fency name for this.'"
      ]
     },
     "execution_count": 11,
     "metadata": {},
     "output_type": "execute_result"
    }
   ],
   "source": [
    "from langchain.prompts import PromptTemplate\n",
    "prompt_template_name = PromptTemplate(\n",
    "    input_variables=['cuisine'],\n",
    "    template= \"I want to open a restaurant for {cuisine} food. Suggest a fency name for this.\")\n",
    "prompt_template_name.format(cuisine='Indian')"
   ]
  },
  {
   "cell_type": "code",
   "execution_count": 12,
   "metadata": {},
   "outputs": [
    {
     "data": {
      "text/plain": [
       "'\\n\\n\"Spice Palace\" '"
      ]
     },
     "execution_count": 12,
     "metadata": {},
     "output_type": "execute_result"
    }
   ],
   "source": [
    "from langchain.chains import LLMChain\n",
    "\n",
    "chain = LLMChain(llm=llm, prompt=prompt_template_name)\n",
    "chain.run(\"Indian\")"
   ]
  },
  {
   "cell_type": "code",
   "execution_count": 18,
   "metadata": {},
   "outputs": [],
   "source": [
    "llm = OpenAI(temperature=0.6)\n",
    "\n",
    "prompt_template_name = PromptTemplate(\n",
    "    input_variables=['cuisine'],\n",
    "    template= \"I want to open a restaurant for {cuisine} food. Suggest a fency name for this.\")\n",
    "name_chain = LLMChain(llm=llm, prompt=prompt_template_name)\n",
    "\n",
    "prompt_template_menu = PromptTemplate(\n",
    "    input_variables=['restaurant_name'],\n",
    "    template= \"Suggest some menu items for {restaurant_name}. Return it as a comma separated list.\")\n",
    "menu_chain = LLMChain(llm=llm, prompt=prompt_template_menu)"
   ]
  },
  {
   "cell_type": "code",
   "execution_count": 20,
   "metadata": {},
   "outputs": [
    {
     "name": "stdout",
     "output_type": "stream",
     "text": [
      "\n",
      "\n",
      "1. Spicy Chicken Tikka Masala\n",
      "2. Aloo Gobi (spiced cauliflower and potatoes)\n",
      "3. Lamb Vindaloo\n",
      "4. Tandoori Shrimp\n",
      "5. Vegetable Samosas\n",
      "6. Chana Masala (spiced chickpeas)\n",
      "7. Palak Paneer (spinach and cheese curry)\n",
      "8. Butter Chicken\n",
      "9. Tandoori Chicken\n",
      "10. Garlic Naan bread\n",
      "11. Vegetable Biryani\n",
      "12. Mango Lassi (spiced yogurt drink)\n",
      "13. Chicken Korma\n",
      "14. Dal Makhani (spiced lentil curry)\n",
      "15. Gajar Halwa (spiced carrot dessert)\n"
     ]
    }
   ],
   "source": [
    "from langchain.chains import SimpleSequentialChain\n",
    "chain = SimpleSequentialChain(chains = [name_chain,menu_chain])\n",
    "food_menu = chain.run('Indian')\n",
    "print(food_menu)"
   ]
  },
  {
   "cell_type": "code",
   "execution_count": 21,
   "metadata": {},
   "outputs": [],
   "source": [
    "llm = OpenAI(temperature=0.6)\n",
    "\n",
    "prompt_template_name = PromptTemplate(\n",
    "    input_variables=['cuisine'],\n",
    "    template= \"I want to open a restaurant for {cuisine} food. Suggest a fency name for this.\")\n",
    "name_chain = LLMChain(llm=llm, prompt=prompt_template_name, output_key=\"restaurant_name\")\n",
    "\n",
    "prompt_template_menu = PromptTemplate(\n",
    "    input_variables=['restaurant_name'],\n",
    "    template= \"Suggest some menu items for {restaurant_name}. Return it as a comma separated list.\")\n",
    "menu_chain = LLMChain(llm=llm, prompt=prompt_template_menu, output_key=\"menu_items\")"
   ]
  },
  {
   "cell_type": "code",
   "execution_count": 23,
   "metadata": {},
   "outputs": [
    {
     "data": {
      "text/plain": [
       "{'cuisine': 'Indian',\n",
       " 'restaurant_name': '\\n\\n\"Spice Palace\"',\n",
       " 'menu_items': '\\n\\n1. Spicy Chicken Curry\\n2. Vegetable Biryani\\n3. Lamb Vindaloo\\n4. Tandoori Chicken\\n5. Aloo Gobi\\n6. Garlic Naan\\n7. Samosas\\n8. Mango Lassi\\n9. Chicken Tikka Masala\\n10. Palak Paneer\\n11. Chana Masala\\n12. Vegetable Korma\\n13. Butter Chicken\\n14. Dal Makhani\\n15. Gulab Jamun.'}"
      ]
     },
     "execution_count": 23,
     "metadata": {},
     "output_type": "execute_result"
    }
   ],
   "source": [
    "from langchain.chains import SequentialChain\n",
    "chain = SequentialChain(\n",
    "    chains=[name_chain,menu_chain],\n",
    "    input_variables = ['cuisine'],\n",
    "    output_variables = ['restaurant_name','menu_items']\n",
    ")\n",
    "chain({'cuisine':'Indian'})"
   ]
  },
  {
   "cell_type": "markdown",
   "metadata": {},
   "source": [
    "## AGENTS"
   ]
  },
  {
   "cell_type": "code",
   "execution_count": 31,
   "metadata": {},
   "outputs": [
    {
     "name": "stdout",
     "output_type": "stream",
     "text": [
      "\n",
      "\n",
      "\u001b[1m> Entering new AgentExecutor chain...\u001b[0m\n",
      "\u001b[32;1m\u001b[1;3m Since the question is about two different things, I should probably use Wikipedia to answer the first question and Calculator for the second question.\n",
      "Action: wikipedia\n",
      "Action Input: OpenAI\u001b[0m\n",
      "Observation: \u001b[36;1m\u001b[1;3mPage: OpenAI\n",
      "Summary: OpenAI is an American artificial intelligence (AI) research organization founded in December 2015, researching artificial intelligence with the goal of developing \"safe and beneficial\" artificial general intelligence, which it defines as \"highly autonomous systems that outperform humans at most economically valuable work\".\n",
      "As one of the leading organizations of the AI boom, it has developed several large language models, advanced image generation models, and previously, released open-source models. Its release of ChatGPT has been credited with starting the AI boom.\n",
      "The organization consists of the non-profit OpenAI, Inc. registered in Delaware and its for-profit subsidiary OpenAI Global, LLC. It was founded by Ilya Sutskever, Greg Brockman, Trevor Blackwell, Vicki Cheung, Andrej Karpathy, Durk Kingma, Jessica Livingston, John Schulman, Pamela Vagata, and Wojciech Zaremba, with Sam Altman and Elon Musk serving as the initial Board of Directors members. Microsoft provided OpenAI Global LLC with a $1 billion investment in 2019 and a $10 billion investment in 2023, with a significant portion of the investment in the form of computational resources on Microsoft's Azure cloud service.\n",
      "On November 17, 2023, the board removed Altman as CEO, while Brockman was removed as chairman and then resigned as president. Four days later, both returned after negotiations with the board, and most of the board members resigned. The new initial board included former Salesforce co-CEO Bret Taylor as chairman. It was also announced that Microsoft will have a non-voting board seat.\n",
      "\n",
      "Page: OpenAI Codex\n",
      "Summary: OpenAI Codex is an artificial intelligence model developed by OpenAI. It parses natural language and generates code in response. It powers GitHub Copilot, a programming autocompletion tool for select IDEs, like Visual Studio Code and Neovim. Codex is a descendant of OpenAI's GPT-3 model, fine-tuned for use in programming applications.\n",
      "OpenAI released an API for Codex in closed beta. In March 2023, OpenAI shut down access to Codex. Due to public appeals from researchers, OpenAI reversed course. The Codex model can still be used by researchers of the OpenAI Research Access Program.\n",
      "\n",
      "Page: Sora (text-to-video model)\n",
      "Summary: Sora is an upcoming generative artificial intelligence model developed by  OpenAI, that specializes in text-to-video generation. The model accepts textual descriptions, known as prompts, from users and generates short video clips corresponding to those descriptions. Prompts can specify artistic styles, fantastical imagery, or real-world scenarios. When creating real-world scenarios, user input may be required to ensure factual accuracy, otherwise features can be added erroneously. Sora is praised for its ability to produce videos with high levels of visual detail, including intricate camera movements and characters that exhibit a range of emotions. Furthermore, the model possesses the functionality to extend existing short videos by generating new content that seamlessly precedes or follows the original clip. As of April 2024, it is unreleased and not yet available to the public.\n",
      "\n",
      "\u001b[0m\n",
      "Thought:\u001b[32;1m\u001b[1;3m I now know the final answer\n",
      "Final Answer: OpenAI is an artificial intelligence research organization that has developed various language and image models, including ChatGPT and Codex. It was founded in 2015 and has received significant investments from Microsoft. Sora is an upcoming text-to-video model being developed by OpenAI. GPT-4o does not seem to be a known model or release from OpenAI.\u001b[0m\n",
      "\n",
      "\u001b[1m> Finished chain.\u001b[0m\n"
     ]
    },
    {
     "data": {
      "text/plain": [
       "{'input': 'What is OpenAI? What is GPT-4o and which date was it released?',\n",
       " 'output': 'OpenAI is an artificial intelligence research organization that has developed various language and image models, including ChatGPT and Codex. It was founded in 2015 and has received significant investments from Microsoft. Sora is an upcoming text-to-video model being developed by OpenAI. GPT-4o does not seem to be a known model or release from OpenAI.'}"
      ]
     },
     "execution_count": 31,
     "metadata": {},
     "output_type": "execute_result"
    }
   ],
   "source": [
    "from langchain.agents import AgentType, initialize_agent, load_tools\n",
    "from langchain_community.llms import OpenAI\n",
    "\n",
    "tools = load_tools([\"wikipedia\",\"llm-math\"],llm=llm)\n",
    "agent = initialize_agent(\n",
    "    tools,\n",
    "    llm,\n",
    "    agent=AgentType.ZERO_SHOT_REACT_DESCRIPTION, #Does a reasoning  thought before action\n",
    "    verbose=True\n",
    ")\n",
    "# agent.invoke(\"When was Elon Musk born? What will be his age in 2023?\")\n",
    "agent.invoke(\"What is OpenAI? What is GPT-4o and which date was it released?\")"
   ]
  },
  {
   "cell_type": "code",
   "execution_count": 34,
   "metadata": {},
   "outputs": [
    {
     "name": "stdout",
     "output_type": "stream",
     "text": [
      "\n",
      "\n",
      "\u001b[1m> Entering new AgentExecutor chain...\u001b[0m\n",
      "\u001b[32;1m\u001b[1;3m I should use Search to find information about OpenAI and GPT-4o.\n",
      "Action: Search\n",
      "Action Input: OpenAI GPT-4o release date\u001b[0m\n",
      "Observation: \u001b[36;1m\u001b[1;3m['GPT-4o has a 128K context window and has a knowledge cut-off date of October 2023. Finally, in terms of modalities: GPT-4o in the API supports ...', 'Prior to this update, GPT-4, which came out in March 2023, was available via the ChatGPT Plus subscription for $20 a month. It uses 1 trillion ...', \"Discover OpenAI's GPT-4o and learn about its launch date, unique features, capabilities, cost, and practical use cases.\", 'Following the pivotal date of May 13th, a series of subsequent releases for the timeline feature were meticulously scheduled, each unveiling ...', \"It's a departure from the company's previous rollout of GPT-4, which was released in March 2023 for those who pay OpenAI's $20-per-month ...\", \"It was launched on March 14, 2023, and made publicly available via the paid chatbot product ChatGPT Plus, via OpenAI's API, and via the free chatbot Microsoft ...\", \"We're announcing GPT-4 Omni, our new flagship model which can reason across audio, vision, and text in real time.\", \"OpenAI has made its new GPT-4o model available for both free and paid users in ChatGPT. Here's how to see if you have access.\", 'Here are the timelines for the GPT-4o feature releases according to their website and Spring Update.']\u001b[0m\n",
      "Thought:\u001b[32;1m\u001b[1;3m After looking through the search results, I should use Search again to find the specific release date for GPT-4o.\n",
      "Action: Search\n",
      "Action Input: GPT-4o release date\u001b[0m\n",
      "Observation: \u001b[36;1m\u001b[1;3m['GPT-4o Release Date\\u200b\\u200b As of May 13, 2024, GPT-4o is being gradually rolled out. The text and image capabilities are already being added for users ...', 'Following the pivotal date of May 13th, a series of subsequent releases for the timeline feature were meticulously scheduled, each unveiling ...', 'GPT-4o has a 128K context window and has a knowledge cut-off date of October 2023. Finally, in terms of modalities: GPT-4o in the API supports ...', \"OpenAI has made its new GPT-4o model available for both free and paid users in ChatGPT. Here's how to see if you have access.\", \"The GPT-4o model marks a new evolution for the GPT-4 LLM that OpenAI first released in March 2023. This isn't the first update for GPT-4 either, ...\", \"It's a departure from the company's previous rollout of GPT-4, which was released in March 2023 for those who pay OpenAI's $20-per-month ...\", \"We're announcing GPT-4 Omni, our new flagship model which can reason across audio, vision, and text in real time.\", 'What we do know is that GPT-4o will first be available to ChatGPT Plus and Team users, with availability for Enterprise users arriving after ...', 'Prior to this update, GPT-4, which came out in March 2023, was available via the ChatGPT Plus subscription for $20 a month. It uses 1 trillion ...']\u001b[0m\n",
      "Thought:\u001b[32;1m\u001b[1;3m I now know that the release date for GPT-4o was May 13, 2024.\n",
      "Final Answer: GPT-4o was released on May 13, 2024.\u001b[0m\n",
      "\n",
      "\u001b[1m> Finished chain.\u001b[0m\n"
     ]
    },
    {
     "data": {
      "text/plain": [
       "{'input': 'What is OpenAI? What is GPT-4o and which date was it released?',\n",
       " 'output': 'GPT-4o was released on May 13, 2024.'}"
      ]
     },
     "execution_count": 34,
     "metadata": {},
     "output_type": "execute_result"
    }
   ],
   "source": [
    "from langchain.agents import AgentType, initialize_agent, load_tools\n",
    "from langchain_community.llms import OpenAI\n",
    "\n",
    "tools = load_tools([\"serpapi\",\"llm-math\"],llm=llm)\n",
    "agent = initialize_agent(\n",
    "    tools,\n",
    "    llm,\n",
    "    agent=AgentType.ZERO_SHOT_REACT_DESCRIPTION, #Does a reasoning  thought before action\n",
    "    verbose=True\n",
    ")\n",
    "# agent.invoke(\"When was Elon Musk born? What will be his age in 2023?\")\n",
    "agent.invoke(\"What is OpenAI? What is GPT-4o and which date was it released?\")"
   ]
  },
  {
   "cell_type": "markdown",
   "metadata": {},
   "source": [
    "## MEMORY"
   ]
  },
  {
   "cell_type": "code",
   "execution_count": 38,
   "metadata": {},
   "outputs": [
    {
     "data": {
      "text/plain": [
       "['__bool__',\n",
       " '__class__',\n",
       " '__delattr__',\n",
       " '__dir__',\n",
       " '__doc__',\n",
       " '__eq__',\n",
       " '__format__',\n",
       " '__ge__',\n",
       " '__getattribute__',\n",
       " '__gt__',\n",
       " '__hash__',\n",
       " '__init__',\n",
       " '__init_subclass__',\n",
       " '__le__',\n",
       " '__lt__',\n",
       " '__ne__',\n",
       " '__new__',\n",
       " '__reduce__',\n",
       " '__reduce_ex__',\n",
       " '__repr__',\n",
       " '__setattr__',\n",
       " '__sizeof__',\n",
       " '__str__',\n",
       " '__subclasshook__']"
      ]
     },
     "execution_count": 38,
     "metadata": {},
     "output_type": "execute_result"
    }
   ],
   "source": [
    "dir(chain.memory)"
   ]
  },
  {
   "cell_type": "code",
   "execution_count": 37,
   "metadata": {},
   "outputs": [
    {
     "data": {
      "text/plain": [
       "NoneType"
      ]
     },
     "execution_count": 37,
     "metadata": {},
     "output_type": "execute_result"
    }
   ],
   "source": [
    "type(chain.memory)"
   ]
  },
  {
   "cell_type": "code",
   "execution_count": 40,
   "metadata": {},
   "outputs": [
    {
     "name": "stdout",
     "output_type": "stream",
     "text": [
      "\n",
      "\n",
      "\"El Sabroso Cantina\" \n"
     ]
    }
   ],
   "source": [
    "from langchain.memory import ConversationBufferMemory\n",
    "\n",
    "memory = ConversationBufferMemory()\n",
    "\n",
    "chain = LLMChain(llm=llm, prompt=prompt_template_name, memory=memory)\n",
    "name = chain.run(\"Mexican\")\n",
    "print(name)"
   ]
  },
  {
   "cell_type": "code",
   "execution_count": 41,
   "metadata": {},
   "outputs": [
    {
     "name": "stdout",
     "output_type": "stream",
     "text": [
      "\n",
      "\n",
      "\"Maharaja's Table\"\n"
     ]
    }
   ],
   "source": [
    "name = chain.run(\"Indian\")\n",
    "print(name)"
   ]
  },
  {
   "cell_type": "code",
   "execution_count": 43,
   "metadata": {},
   "outputs": [
    {
     "name": "stdout",
     "output_type": "stream",
     "text": [
      "Human: Mexican\n",
      "AI: \n",
      "\n",
      "\"El Sabroso Cantina\" \n",
      "Human: Indian\n",
      "AI: \n",
      "\n",
      "\"Maharaja's Table\"\n"
     ]
    }
   ],
   "source": [
    "print(chain.memory.buffer)"
   ]
  },
  {
   "cell_type": "code",
   "execution_count": 46,
   "metadata": {},
   "outputs": [
    {
     "name": "stdout",
     "output_type": "stream",
     "text": [
      "input_variables=['history', 'input'] template='The following is a friendly conversation between a human and an AI. The AI is talkative and provides lots of specific details from its context. If the AI does not know the answer to a question, it truthfully says it does not know.\\n\\nCurrent conversation:\\n{history}\\nHuman: {input}\\nAI:'\n",
      "############\n",
      "The following is a friendly conversation between a human and an AI. The AI is talkative and provides lots of specific details from its context. If the AI does not know the answer to a question, it truthfully says it does not know.\n",
      "\n",
      "Current conversation:\n",
      "{history}\n",
      "Human: {input}\n",
      "AI:\n"
     ]
    }
   ],
   "source": [
    "from langchain.chains import ConversationChain\n",
    "\n",
    "convo = ConversationChain(llm=OpenAI(temperature=0.7))\n",
    "print(convo.prompt)\n",
    "print(\"############\")\n",
    "print(convo.prompt.template)"
   ]
  },
  {
   "cell_type": "code",
   "execution_count": 47,
   "metadata": {},
   "outputs": [
    {
     "data": {
      "text/plain": [
       "\" The first Cricket World Cup was held in 1975 and was won by the West Indies. The West Indies defeated Australia by 17 runs in the final match held at Lord's Cricket Ground in London. The tournament was a round-robin format with eight teams competing. The West Indies had a dominant performance, winning all their matches except for one tie against Sri Lanka. The captain of the West Indies team at the time was Clive Lloyd, and the team was known for its strong batting lineup and fast bowlers.\""
      ]
     },
     "execution_count": 47,
     "metadata": {},
     "output_type": "execute_result"
    }
   ],
   "source": [
    "convo.run(\"who won the first cricket world cup?\")"
   ]
  },
  {
   "cell_type": "code",
   "execution_count": 48,
   "metadata": {},
   "outputs": [
    {
     "data": {
      "text/plain": [
       "'  5 + 5 is 10.'"
      ]
     },
     "execution_count": 48,
     "metadata": {},
     "output_type": "execute_result"
    }
   ],
   "source": [
    "convo.run(\"what is 5 + 5?\")"
   ]
  },
  {
   "cell_type": "code",
   "execution_count": 49,
   "metadata": {},
   "outputs": [
    {
     "data": {
      "text/plain": [
       "' The captain of the winning team was Clive Lloyd.'"
      ]
     },
     "execution_count": 49,
     "metadata": {},
     "output_type": "execute_result"
    }
   ],
   "source": [
    "convo.run(\"Who was the captain of the winning team?\")"
   ]
  },
  {
   "cell_type": "code",
   "execution_count": 52,
   "metadata": {},
   "outputs": [
    {
     "name": "stdout",
     "output_type": "stream",
     "text": [
      "Human: who won the first cricket world cup?\n",
      "AI:  The first Cricket World Cup was held in 1975 and was won by the West Indies. The West Indies defeated Australia by 17 runs in the final match held at Lord's Cricket Ground in London. The tournament was a round-robin format with eight teams competing. The West Indies had a dominant performance, winning all their matches except for one tie against Sri Lanka. The captain of the West Indies team at the time was Clive Lloyd, and the team was known for its strong batting lineup and fast bowlers.\n",
      "Human: what is 5 + 5?\n",
      "AI:   5 + 5 is 10.\n",
      "Human: Who was the captain of the winning team?\n",
      "AI:  The captain of the winning team was Clive Lloyd.\n"
     ]
    }
   ],
   "source": [
    "print(convo.memory.buffer)"
   ]
  },
  {
   "cell_type": "code",
   "execution_count": 57,
   "metadata": {},
   "outputs": [
    {
     "data": {
      "text/plain": [
       "' The first Cricket World Cup was held in 1975 and was won by the West Indies. They defeated Australia in the final by 17 runs. The tournament was held in England and was a 60-over per side competition. The West Indies team was led by Clive Lloyd and had players like Viv Richards, Gordon Greenidge, and Michael Holding. It was a historic moment for the West Indies, as they became the first team to win the Cricket World Cup.'"
      ]
     },
     "execution_count": 57,
     "metadata": {},
     "output_type": "execute_result"
    }
   ],
   "source": [
    "from langchain.memory import ConversationBufferWindowMemory\n",
    "\n",
    "memory = ConversationBufferWindowMemory(k=1)\n",
    "convo = ConversationChain(\n",
    "    llm=OpenAI(temperature=0.6),\n",
    "    memory=memory\n",
    ")\n",
    "convo.run(\"who won the first cricket world cup?\")"
   ]
  },
  {
   "cell_type": "code",
   "execution_count": 59,
   "metadata": {},
   "outputs": [
    {
     "data": {
      "text/plain": [
       "' 5 + 5 is equal to 10.'"
      ]
     },
     "execution_count": 59,
     "metadata": {},
     "output_type": "execute_result"
    }
   ],
   "source": [
    "convo.run(\"what is 5 + 5?\")"
   ]
  },
  {
   "cell_type": "code",
   "execution_count": 60,
   "metadata": {},
   "outputs": [
    {
     "data": {
      "text/plain": [
       "\" I don't have enough information to answer that question. Can you provide more context?\""
      ]
     },
     "execution_count": 60,
     "metadata": {},
     "output_type": "execute_result"
    }
   ],
   "source": [
    "convo.run(\"who was the captain of the winning team?\")"
   ]
  },
  {
   "cell_type": "code",
   "execution_count": null,
   "metadata": {},
   "outputs": [],
   "source": []
  }
 ],
 "metadata": {
  "kernelspec": {
   "display_name": "langchain",
   "language": "python",
   "name": "python3"
  },
  "language_info": {
   "codemirror_mode": {
    "name": "ipython",
    "version": 3
   },
   "file_extension": ".py",
   "mimetype": "text/x-python",
   "name": "python",
   "nbconvert_exporter": "python",
   "pygments_lexer": "ipython3",
   "version": "3.9.0"
  }
 },
 "nbformat": 4,
 "nbformat_minor": 2
}
