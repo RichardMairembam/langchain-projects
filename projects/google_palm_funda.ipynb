{
 "cells": [
  {
   "cell_type": "code",
   "execution_count": 2,
   "metadata": {},
   "outputs": [
    {
     "name": "stderr",
     "output_type": "stream",
     "text": [
      "c:\\Users\\richa\\anaconda3\\envs\\langchain\\lib\\site-packages\\tqdm\\auto.py:21: TqdmWarning: IProgress not found. Please update jupyter and ipywidgets. See https://ipywidgets.readthedocs.io/en/stable/user_install.html\n",
      "  from .autonotebook import tqdm as notebook_tqdm\n"
     ]
    },
    {
     "name": "stdout",
     "output_type": "stream",
     "text": [
      "**Ode to Dosa**\n",
      "\n",
      "Dosa, oh dosa,\n",
      "Your beauty is unmatched.\n",
      "Your crispy exterior,\n",
      "Your soft and fluffy interior,\n",
      "A taste sensation that never fails to delight.\n",
      "\n",
      "From humble beginnings,\n",
      "You have become a beloved dish\n",
      "All over the world.\n",
      "You are a symbol of Indian culture,\n",
      "A taste of home,\n",
      "A comfort food that always hits the spot.\n",
      "\n",
      "Dosa, oh dosa,\n",
      "You are a culinary masterpiece.\n",
      "Thank you for gracing our tables,\n",
      "And for making our lives a little bit more delicious.\n",
      "\n",
      "**I love you, dosa!**\n"
     ]
    }
   ],
   "source": [
    "from langchain_community.llms import GooglePalm\n",
    "\n",
    "llm = GooglePalm(google_api_key=\"google_api_key\",temperature=0.2)\n",
    "poem = llm(\"Write a poem on Dosa.\")\n",
    "print(poem)"
   ]
  },
  {
   "cell_type": "code",
   "execution_count": null,
   "metadata": {},
   "outputs": [],
   "source": []
  }
 ],
 "metadata": {
  "kernelspec": {
   "display_name": "langchain",
   "language": "python",
   "name": "python3"
  },
  "language_info": {
   "codemirror_mode": {
    "name": "ipython",
    "version": 3
   },
   "file_extension": ".py",
   "mimetype": "text/x-python",
   "name": "python",
   "nbconvert_exporter": "python",
   "pygments_lexer": "ipython3",
   "version": "3.9.0"
  }
 },
 "nbformat": 4,
 "nbformat_minor": 2
}
